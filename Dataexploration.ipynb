{
  "cells": [
    {
      "cell_type": "markdown",
      "metadata": {
        "id": "view-in-github",
        "colab_type": "text"
      },
      "source": [
        "<a href=\"https://colab.research.google.com/github/sherylshiya/machine_learning_projects/blob/main/Dataexploration.ipynb\" target=\"_parent\"><img src=\"https://colab.research.google.com/assets/colab-badge.svg\" alt=\"Open In Colab\"/></a>"
      ]
    },
    {
      "cell_type": "code",
      "execution_count": null,
      "id": "f7ebcb77",
      "metadata": {
        "id": "f7ebcb77"
      },
      "outputs": [],
      "source": [
        "# read and write csv and excel files"
      ]
    },
    {
      "cell_type": "code",
      "execution_count": null,
      "id": "1f42fbfc",
      "metadata": {
        "id": "1f42fbfc"
      },
      "outputs": [],
      "source": [
        "\n",
        "import numpy as np\n",
        "\n",
        "import matplotlib.pyplot as plt\n",
        "import pandas as pd"
      ]
    },
    {
      "cell_type": "code",
      "execution_count": null,
      "id": "2b030ae4",
      "metadata": {
        "id": "2b030ae4"
      },
      "outputs": [],
      "source": [
        "dataset = pd.read_csv('D:\\CSE310 - AIML\\Module 2\\Assignments\\Data.csv')"
      ]
    },
    {
      "cell_type": "code",
      "execution_count": null,
      "id": "a78a80ad",
      "metadata": {
        "id": "a78a80ad",
        "outputId": "cac2a151-4ece-4588-dca8-9247cda72026"
      },
      "outputs": [
        {
          "data": {
            "text/plain": [
              "pandas.core.frame.DataFrame"
            ]
          },
          "execution_count": 6,
          "metadata": {},
          "output_type": "execute_result"
        }
      ],
      "source": [
        "type(dataset)"
      ]
    },
    {
      "cell_type": "code",
      "execution_count": null,
      "id": "dfc09be5",
      "metadata": {
        "id": "dfc09be5",
        "outputId": "ed5a3aff-ef84-4a80-a9c6-1fcc4d855d73"
      },
      "outputs": [
        {
          "name": "stdout",
          "output_type": "stream",
          "text": [
            "<class 'pandas.core.frame.DataFrame'>\n",
            "RangeIndex: 10 entries, 0 to 9\n",
            "Data columns (total 4 columns):\n",
            " #   Column     Non-Null Count  Dtype  \n",
            "---  ------     --------------  -----  \n",
            " 0   Country    10 non-null     object \n",
            " 1   Age        9 non-null      float64\n",
            " 2   Salary     9 non-null      float64\n",
            " 3   Purchased  10 non-null     object \n",
            "dtypes: float64(2), object(2)\n",
            "memory usage: 452.0+ bytes\n"
          ]
        }
      ],
      "source": [
        "dataset.info()"
      ]
    },
    {
      "cell_type": "code",
      "execution_count": null,
      "id": "fceedd03",
      "metadata": {
        "id": "fceedd03"
      },
      "outputs": [],
      "source": []
    },
    {
      "cell_type": "code",
      "execution_count": null,
      "id": "08f46f06",
      "metadata": {
        "id": "08f46f06",
        "outputId": "eb999588-c5ff-408b-fe8e-138b62a4ea05"
      },
      "outputs": [
        {
          "data": {
            "text/html": [
              "<div>\n",
              "<style scoped>\n",
              "    .dataframe tbody tr th:only-of-type {\n",
              "        vertical-align: middle;\n",
              "    }\n",
              "\n",
              "    .dataframe tbody tr th {\n",
              "        vertical-align: top;\n",
              "    }\n",
              "\n",
              "    .dataframe thead th {\n",
              "        text-align: right;\n",
              "    }\n",
              "</style>\n",
              "<table border=\"1\" class=\"dataframe\">\n",
              "  <thead>\n",
              "    <tr style=\"text-align: right;\">\n",
              "      <th></th>\n",
              "      <th>Country</th>\n",
              "      <th>Age</th>\n",
              "      <th>Salary</th>\n",
              "      <th>Purchased</th>\n",
              "    </tr>\n",
              "  </thead>\n",
              "  <tbody>\n",
              "    <tr>\n",
              "      <th>0</th>\n",
              "      <td>France</td>\n",
              "      <td>44.0</td>\n",
              "      <td>72000.0</td>\n",
              "      <td>No</td>\n",
              "    </tr>\n",
              "    <tr>\n",
              "      <th>1</th>\n",
              "      <td>Spain</td>\n",
              "      <td>27.0</td>\n",
              "      <td>48000.0</td>\n",
              "      <td>Yes</td>\n",
              "    </tr>\n",
              "    <tr>\n",
              "      <th>2</th>\n",
              "      <td>Germany</td>\n",
              "      <td>30.0</td>\n",
              "      <td>54000.0</td>\n",
              "      <td>No</td>\n",
              "    </tr>\n",
              "    <tr>\n",
              "      <th>3</th>\n",
              "      <td>Spain</td>\n",
              "      <td>38.0</td>\n",
              "      <td>61000.0</td>\n",
              "      <td>No</td>\n",
              "    </tr>\n",
              "    <tr>\n",
              "      <th>4</th>\n",
              "      <td>Germany</td>\n",
              "      <td>40.0</td>\n",
              "      <td>NaN</td>\n",
              "      <td>na</td>\n",
              "    </tr>\n",
              "  </tbody>\n",
              "</table>\n",
              "</div>"
            ],
            "text/plain": [
              "   Country   Age   Salary Purchased\n",
              "0   France  44.0  72000.0        No\n",
              "1    Spain  27.0  48000.0       Yes\n",
              "2  Germany  30.0  54000.0        No\n",
              "3    Spain  38.0  61000.0        No\n",
              "4  Germany  40.0      NaN        na"
            ]
          },
          "execution_count": 4,
          "metadata": {},
          "output_type": "execute_result"
        }
      ],
      "source": [
        "dataset.head(5)"
      ]
    },
    {
      "cell_type": "code",
      "execution_count": null,
      "id": "9c2991fe",
      "metadata": {
        "id": "9c2991fe"
      },
      "outputs": [],
      "source": [
        "dataset.to_csv('D:\\CSE310 - AIML\\Module 2\\Assignments\\Data1.csv')\n"
      ]
    },
    {
      "cell_type": "code",
      "execution_count": null,
      "id": "d963aab1",
      "metadata": {
        "id": "d963aab1"
      },
      "outputs": [],
      "source": [
        "df = pd.read_excel(\"D:\\CSE310 - AIML\\Module 2\\Assignments\\dataxcl.xlsx\")\n"
      ]
    },
    {
      "cell_type": "code",
      "execution_count": null,
      "id": "3ff9dff0",
      "metadata": {
        "id": "3ff9dff0"
      },
      "outputs": [],
      "source": [
        "df.to_excel(\"D:\\CSE310 - AIML\\Module 2\\Assignments\\dataxcl2.xlsx\")\n"
      ]
    },
    {
      "cell_type": "code",
      "execution_count": null,
      "id": "9f8ffb99",
      "metadata": {
        "id": "9f8ffb99"
      },
      "outputs": [],
      "source": [
        "# DIMENSIONALITY CHECK"
      ]
    },
    {
      "cell_type": "code",
      "execution_count": null,
      "id": "6dcd1eac",
      "metadata": {
        "id": "6dcd1eac",
        "outputId": "148a9eb4-a1e7-4dac-bead-7488a934f91b"
      },
      "outputs": [
        {
          "data": {
            "text/plain": [
              "(10, 4)"
            ]
          },
          "execution_count": 9,
          "metadata": {},
          "output_type": "execute_result"
        }
      ],
      "source": [
        "dataset.shape\n"
      ]
    },
    {
      "cell_type": "code",
      "execution_count": null,
      "id": "46eb6224",
      "metadata": {
        "id": "46eb6224",
        "outputId": "be6f0389-76d7-43cc-af52-ad05b82463ab"
      },
      "outputs": [
        {
          "data": {
            "text/plain": [
              "pandas.core.frame.DataFrame"
            ]
          },
          "execution_count": 10,
          "metadata": {},
          "output_type": "execute_result"
        }
      ],
      "source": [
        "type(dataset)"
      ]
    },
    {
      "cell_type": "code",
      "execution_count": null,
      "id": "cfd12a13",
      "metadata": {
        "id": "cfd12a13",
        "outputId": "46d6c060-f960-4ca1-d004-61e92317f212"
      },
      "outputs": [
        {
          "data": {
            "text/plain": [
              "pandas.core.series.Series"
            ]
          },
          "execution_count": 11,
          "metadata": {},
          "output_type": "execute_result"
        }
      ],
      "source": [
        "type(dataset['Age'])"
      ]
    },
    {
      "cell_type": "code",
      "execution_count": null,
      "id": "dd7b4d8a",
      "metadata": {
        "id": "dd7b4d8a",
        "outputId": "6ffbff30-062e-4eec-fde0-3c474307473d"
      },
      "outputs": [
        {
          "data": {
            "text/plain": [
              "dtype('O')"
            ]
          },
          "execution_count": 12,
          "metadata": {},
          "output_type": "execute_result"
        }
      ],
      "source": [
        "(dataset['Country']).dtype"
      ]
    },
    {
      "cell_type": "code",
      "execution_count": null,
      "id": "6a18710c",
      "metadata": {
        "id": "6a18710c"
      },
      "outputs": [],
      "source": [
        "# slicing"
      ]
    },
    {
      "cell_type": "code",
      "execution_count": null,
      "id": "9da8e1e8",
      "metadata": {
        "id": "9da8e1e8",
        "outputId": "120744b3-af3e-4ef2-abaf-78ac97e7d010"
      },
      "outputs": [
        {
          "data": {
            "text/plain": [
              "[2, 3, 4, 5]"
            ]
          },
          "execution_count": 14,
          "metadata": {},
          "output_type": "execute_result"
        }
      ],
      "source": [
        "list = [1,2,3,4,5]\n",
        "list[1:5]\n"
      ]
    },
    {
      "cell_type": "code",
      "execution_count": null,
      "id": "44f2cd1d",
      "metadata": {
        "id": "44f2cd1d",
        "outputId": "cdb7e43c-500c-41e1-ddf5-8c87f70447ee"
      },
      "outputs": [
        {
          "data": {
            "text/html": [
              "<div>\n",
              "<style scoped>\n",
              "    .dataframe tbody tr th:only-of-type {\n",
              "        vertical-align: middle;\n",
              "    }\n",
              "\n",
              "    .dataframe tbody tr th {\n",
              "        vertical-align: top;\n",
              "    }\n",
              "\n",
              "    .dataframe thead th {\n",
              "        text-align: right;\n",
              "    }\n",
              "</style>\n",
              "<table border=\"1\" class=\"dataframe\">\n",
              "  <thead>\n",
              "    <tr style=\"text-align: right;\">\n",
              "      <th></th>\n",
              "      <th>Country</th>\n",
              "      <th>Age</th>\n",
              "      <th>Salary</th>\n",
              "      <th>Purchased</th>\n",
              "    </tr>\n",
              "  </thead>\n",
              "  <tbody>\n",
              "    <tr>\n",
              "      <th>0</th>\n",
              "      <td>France</td>\n",
              "      <td>44.0</td>\n",
              "      <td>72000.0</td>\n",
              "      <td>No</td>\n",
              "    </tr>\n",
              "    <tr>\n",
              "      <th>1</th>\n",
              "      <td>Spain</td>\n",
              "      <td>27.0</td>\n",
              "      <td>48000.0</td>\n",
              "      <td>Yes</td>\n",
              "    </tr>\n",
              "    <tr>\n",
              "      <th>2</th>\n",
              "      <td>Germany</td>\n",
              "      <td>30.0</td>\n",
              "      <td>54000.0</td>\n",
              "      <td>No</td>\n",
              "    </tr>\n",
              "    <tr>\n",
              "      <th>3</th>\n",
              "      <td>Spain</td>\n",
              "      <td>38.0</td>\n",
              "      <td>61000.0</td>\n",
              "      <td>No</td>\n",
              "    </tr>\n",
              "    <tr>\n",
              "      <th>4</th>\n",
              "      <td>Germany</td>\n",
              "      <td>40.0</td>\n",
              "      <td>NaN</td>\n",
              "      <td>na</td>\n",
              "    </tr>\n",
              "    <tr>\n",
              "      <th>5</th>\n",
              "      <td>France</td>\n",
              "      <td>35.0</td>\n",
              "      <td>58000.0</td>\n",
              "      <td>Yes</td>\n",
              "    </tr>\n",
              "    <tr>\n",
              "      <th>6</th>\n",
              "      <td>Spain</td>\n",
              "      <td>NaN</td>\n",
              "      <td>52000.0</td>\n",
              "      <td>No</td>\n",
              "    </tr>\n",
              "    <tr>\n",
              "      <th>7</th>\n",
              "      <td>France</td>\n",
              "      <td>48.0</td>\n",
              "      <td>79000.0</td>\n",
              "      <td>Yes</td>\n",
              "    </tr>\n",
              "    <tr>\n",
              "      <th>8</th>\n",
              "      <td>Germany</td>\n",
              "      <td>50.0</td>\n",
              "      <td>83000.0</td>\n",
              "      <td>No</td>\n",
              "    </tr>\n",
              "    <tr>\n",
              "      <th>9</th>\n",
              "      <td>France</td>\n",
              "      <td>37.0</td>\n",
              "      <td>67000.0</td>\n",
              "      <td>Yes</td>\n",
              "    </tr>\n",
              "  </tbody>\n",
              "</table>\n",
              "</div>"
            ],
            "text/plain": [
              "   Country   Age   Salary Purchased\n",
              "0   France  44.0  72000.0        No\n",
              "1    Spain  27.0  48000.0       Yes\n",
              "2  Germany  30.0  54000.0        No\n",
              "3    Spain  38.0  61000.0        No\n",
              "4  Germany  40.0      NaN        na\n",
              "5   France  35.0  58000.0       Yes\n",
              "6    Spain   NaN  52000.0        No\n",
              "7   France  48.0  79000.0       Yes\n",
              "8  Germany  50.0  83000.0        No\n",
              "9   France  37.0  67000.0       Yes"
            ]
          },
          "execution_count": 22,
          "metadata": {},
          "output_type": "execute_result"
        }
      ],
      "source": [
        "dataset.iloc[:,:]\n"
      ]
    },
    {
      "cell_type": "code",
      "execution_count": null,
      "id": "70facf7a",
      "metadata": {
        "id": "70facf7a",
        "outputId": "14da1176-92fb-4aa7-a6ae-64b0fd0439c7"
      },
      "outputs": [
        {
          "data": {
            "text/plain": [
              "array(['France', 'Spain', 'Germany'], dtype=object)"
            ]
          },
          "execution_count": 18,
          "metadata": {},
          "output_type": "execute_result"
        }
      ],
      "source": [
        "dataset['Country'].unique()\n"
      ]
    },
    {
      "cell_type": "code",
      "execution_count": null,
      "id": "f9b4b4db",
      "metadata": {
        "id": "f9b4b4db",
        "outputId": "6dcdc13d-ad40-40b9-856a-8c40bc76bc8c"
      },
      "outputs": [
        {
          "data": {
            "text/plain": [
              "array(['No', 'Yes', 'No', 'No', 'na', 'Yes', 'No', 'Yes', 'No', 'Yes'],\n",
              "      dtype=object)"
            ]
          },
          "execution_count": 22,
          "metadata": {},
          "output_type": "execute_result"
        }
      ],
      "source": [
        "dataset['Purchased'].values\n"
      ]
    },
    {
      "cell_type": "code",
      "execution_count": null,
      "id": "e817a81f",
      "metadata": {
        "id": "e817a81f",
        "outputId": "542a9360-88e7-44e2-fd40-93dc556e2c95"
      },
      "outputs": [
        {
          "data": {
            "text/plain": [
              "pandas.core.series.Series"
            ]
          },
          "execution_count": 21,
          "metadata": {},
          "output_type": "execute_result"
        }
      ],
      "source": [
        "type(dataset['Purchased'])"
      ]
    },
    {
      "cell_type": "code",
      "execution_count": null,
      "id": "23bfe825",
      "metadata": {
        "id": "23bfe825"
      },
      "outputs": [],
      "source": [
        "purchased_list = dataset['Purchased'].tolist()"
      ]
    },
    {
      "cell_type": "code",
      "execution_count": null,
      "id": "5257586f",
      "metadata": {
        "id": "5257586f",
        "outputId": "07f44afa-9e9f-410e-c5ab-6e88ed441042"
      },
      "outputs": [
        {
          "data": {
            "text/plain": [
              "['No', 'Yes', 'No', 'No', 'Yes', 'Yes', 'No', 'Yes', 'No', 'Yes']"
            ]
          },
          "execution_count": 40,
          "metadata": {},
          "output_type": "execute_result"
        }
      ],
      "source": [
        "purchased_list"
      ]
    },
    {
      "cell_type": "code",
      "execution_count": null,
      "id": "ce2086e0",
      "metadata": {
        "id": "ce2086e0",
        "outputId": "fd663fce-6c12-406b-eb2c-8c04723c9dfe"
      },
      "outputs": [
        {
          "data": {
            "text/html": [
              "<div>\n",
              "<style scoped>\n",
              "    .dataframe tbody tr th:only-of-type {\n",
              "        vertical-align: middle;\n",
              "    }\n",
              "\n",
              "    .dataframe tbody tr th {\n",
              "        vertical-align: top;\n",
              "    }\n",
              "\n",
              "    .dataframe thead th {\n",
              "        text-align: right;\n",
              "    }\n",
              "</style>\n",
              "<table border=\"1\" class=\"dataframe\">\n",
              "  <thead>\n",
              "    <tr style=\"text-align: right;\">\n",
              "      <th></th>\n",
              "      <th>Age</th>\n",
              "      <th>Salary</th>\n",
              "    </tr>\n",
              "  </thead>\n",
              "  <tbody>\n",
              "    <tr>\n",
              "      <th>count</th>\n",
              "      <td>9.000000</td>\n",
              "      <td>9.000000</td>\n",
              "    </tr>\n",
              "    <tr>\n",
              "      <th>mean</th>\n",
              "      <td>38.777778</td>\n",
              "      <td>63777.777778</td>\n",
              "    </tr>\n",
              "    <tr>\n",
              "      <th>std</th>\n",
              "      <td>7.693793</td>\n",
              "      <td>12265.579662</td>\n",
              "    </tr>\n",
              "    <tr>\n",
              "      <th>min</th>\n",
              "      <td>27.000000</td>\n",
              "      <td>48000.000000</td>\n",
              "    </tr>\n",
              "    <tr>\n",
              "      <th>25%</th>\n",
              "      <td>35.000000</td>\n",
              "      <td>54000.000000</td>\n",
              "    </tr>\n",
              "    <tr>\n",
              "      <th>50%</th>\n",
              "      <td>38.000000</td>\n",
              "      <td>61000.000000</td>\n",
              "    </tr>\n",
              "    <tr>\n",
              "      <th>75%</th>\n",
              "      <td>44.000000</td>\n",
              "      <td>72000.000000</td>\n",
              "    </tr>\n",
              "    <tr>\n",
              "      <th>max</th>\n",
              "      <td>50.000000</td>\n",
              "      <td>83000.000000</td>\n",
              "    </tr>\n",
              "  </tbody>\n",
              "</table>\n",
              "</div>"
            ],
            "text/plain": [
              "             Age        Salary\n",
              "count   9.000000      9.000000\n",
              "mean   38.777778  63777.777778\n",
              "std     7.693793  12265.579662\n",
              "min    27.000000  48000.000000\n",
              "25%    35.000000  54000.000000\n",
              "50%    38.000000  61000.000000\n",
              "75%    44.000000  72000.000000\n",
              "max    50.000000  83000.000000"
            ]
          },
          "execution_count": 26,
          "metadata": {},
          "output_type": "execute_result"
        }
      ],
      "source": [
        "dataset.describe()"
      ]
    },
    {
      "cell_type": "code",
      "execution_count": null,
      "id": "c4a3915a",
      "metadata": {
        "id": "c4a3915a",
        "outputId": "271843ab-2a84-42d1-9215-da311f5b193c"
      },
      "outputs": [
        {
          "name": "stderr",
          "output_type": "stream",
          "text": [
            "C:\\Users\\vanik\\AppData\\Local\\Temp/ipykernel_11520/3698961737.py:1: FutureWarning: Dropping of nuisance columns in DataFrame reductions (with 'numeric_only=None') is deprecated; in a future version this will raise TypeError.  Select only valid columns before calling the reduction.\n",
            "  df.mean()\n"
          ]
        },
        {
          "data": {
            "text/plain": [
              "Age          38.777778\n",
              "Salary    63777.777778\n",
              "dtype: float64"
            ]
          },
          "execution_count": 44,
          "metadata": {},
          "output_type": "execute_result"
        }
      ],
      "source": [
        "dataset.mean()"
      ]
    },
    {
      "cell_type": "code",
      "execution_count": null,
      "id": "b00c12a9",
      "metadata": {
        "id": "b00c12a9",
        "outputId": "a344a0f0-4532-4e0b-ada1-4e129ddc2445"
      },
      "outputs": [
        {
          "data": {
            "text/plain": [
              "38.77777777777778"
            ]
          },
          "execution_count": 45,
          "metadata": {},
          "output_type": "execute_result"
        }
      ],
      "source": [
        "dataset['Age'].mean()"
      ]
    },
    {
      "cell_type": "code",
      "execution_count": null,
      "id": "828bdc2c",
      "metadata": {
        "id": "828bdc2c",
        "outputId": "84643fdb-f30c-4e45-c6d3-2cc4b922e649"
      },
      "outputs": [
        {
          "data": {
            "text/plain": [
              "38.0"
            ]
          },
          "execution_count": 46,
          "metadata": {},
          "output_type": "execute_result"
        }
      ],
      "source": [
        "dataset['Age'].median()"
      ]
    },
    {
      "cell_type": "code",
      "execution_count": null,
      "id": "056634e9",
      "metadata": {
        "id": "056634e9",
        "outputId": "72ba4236-6322-4fb0-8cc9-df311126242b"
      },
      "outputs": [
        {
          "name": "stderr",
          "output_type": "stream",
          "text": [
            "C:\\Users\\vanik\\AppData\\Local\\Temp/ipykernel_11520/530051474.py:1: FutureWarning: Dropping of nuisance columns in DataFrame reductions (with 'numeric_only=None') is deprecated; in a future version this will raise TypeError.  Select only valid columns before calling the reduction.\n",
            "  df.median()\n"
          ]
        },
        {
          "data": {
            "text/plain": [
              "Age          38.0\n",
              "Salary    61000.0\n",
              "dtype: float64"
            ]
          },
          "execution_count": 47,
          "metadata": {},
          "output_type": "execute_result"
        }
      ],
      "source": [
        "df.median()"
      ]
    },
    {
      "cell_type": "code",
      "execution_count": null,
      "id": "03698cf6",
      "metadata": {
        "id": "03698cf6",
        "outputId": "e2429458-2b87-494a-c85f-9b9e854c1620"
      },
      "outputs": [
        {
          "name": "stderr",
          "output_type": "stream",
          "text": [
            "C:\\Users\\vanik\\anaconda3\\lib\\site-packages\\pandas\\core\\algorithms.py:969: UserWarning: Unable to sort modes: '<' not supported between instances of 'float' and 'str'\n",
            "  warn(f\"Unable to sort modes: {err}\")\n"
          ]
        },
        {
          "data": {
            "text/html": [
              "<div>\n",
              "<style scoped>\n",
              "    .dataframe tbody tr th:only-of-type {\n",
              "        vertical-align: middle;\n",
              "    }\n",
              "\n",
              "    .dataframe tbody tr th {\n",
              "        vertical-align: top;\n",
              "    }\n",
              "\n",
              "    .dataframe thead th {\n",
              "        text-align: right;\n",
              "    }\n",
              "</style>\n",
              "<table border=\"1\" class=\"dataframe\">\n",
              "  <thead>\n",
              "    <tr style=\"text-align: right;\">\n",
              "      <th></th>\n",
              "      <th>0</th>\n",
              "      <th>1</th>\n",
              "      <th>2</th>\n",
              "      <th>3</th>\n",
              "    </tr>\n",
              "  </thead>\n",
              "  <tbody>\n",
              "    <tr>\n",
              "      <th>0</th>\n",
              "      <td>France</td>\n",
              "      <td>44.0</td>\n",
              "      <td>72000.0</td>\n",
              "      <td>No</td>\n",
              "    </tr>\n",
              "    <tr>\n",
              "      <th>1</th>\n",
              "      <td>Spain</td>\n",
              "      <td>27.0</td>\n",
              "      <td>48000.0</td>\n",
              "      <td>Yes</td>\n",
              "    </tr>\n",
              "    <tr>\n",
              "      <th>2</th>\n",
              "      <td>Germany</td>\n",
              "      <td>30.0</td>\n",
              "      <td>54000.0</td>\n",
              "      <td>No</td>\n",
              "    </tr>\n",
              "    <tr>\n",
              "      <th>3</th>\n",
              "      <td>Spain</td>\n",
              "      <td>38.0</td>\n",
              "      <td>61000.0</td>\n",
              "      <td>No</td>\n",
              "    </tr>\n",
              "    <tr>\n",
              "      <th>4</th>\n",
              "      <td>Germany</td>\n",
              "      <td>40.0</td>\n",
              "      <td>Yes</td>\n",
              "      <td>NaN</td>\n",
              "    </tr>\n",
              "    <tr>\n",
              "      <th>5</th>\n",
              "      <td>France</td>\n",
              "      <td>35.0</td>\n",
              "      <td>58000.0</td>\n",
              "      <td>Yes</td>\n",
              "    </tr>\n",
              "    <tr>\n",
              "      <th>6</th>\n",
              "      <td>Spain</td>\n",
              "      <td>52000.0</td>\n",
              "      <td>No</td>\n",
              "      <td>NaN</td>\n",
              "    </tr>\n",
              "    <tr>\n",
              "      <th>7</th>\n",
              "      <td>France</td>\n",
              "      <td>48.0</td>\n",
              "      <td>79000.0</td>\n",
              "      <td>Yes</td>\n",
              "    </tr>\n",
              "    <tr>\n",
              "      <th>8</th>\n",
              "      <td>Germany</td>\n",
              "      <td>50.0</td>\n",
              "      <td>83000.0</td>\n",
              "      <td>No</td>\n",
              "    </tr>\n",
              "    <tr>\n",
              "      <th>9</th>\n",
              "      <td>France</td>\n",
              "      <td>37.0</td>\n",
              "      <td>67000.0</td>\n",
              "      <td>Yes</td>\n",
              "    </tr>\n",
              "  </tbody>\n",
              "</table>\n",
              "</div>"
            ],
            "text/plain": [
              "         0        1        2    3\n",
              "0   France     44.0  72000.0   No\n",
              "1    Spain     27.0  48000.0  Yes\n",
              "2  Germany     30.0  54000.0   No\n",
              "3    Spain     38.0  61000.0   No\n",
              "4  Germany     40.0      Yes  NaN\n",
              "5   France     35.0  58000.0  Yes\n",
              "6    Spain  52000.0       No  NaN\n",
              "7   France     48.0  79000.0  Yes\n",
              "8  Germany     50.0  83000.0   No\n",
              "9   France     37.0  67000.0  Yes"
            ]
          },
          "execution_count": 59,
          "metadata": {},
          "output_type": "execute_result"
        }
      ],
      "source": [
        "df.mode(axis=1)\n"
      ]
    },
    {
      "cell_type": "code",
      "execution_count": null,
      "id": "a6579ba7",
      "metadata": {
        "id": "a6579ba7"
      },
      "outputs": [],
      "source": [
        "# corelation plot"
      ]
    },
    {
      "cell_type": "code",
      "execution_count": null,
      "id": "d5a2c7db",
      "metadata": {
        "id": "d5a2c7db"
      },
      "outputs": [],
      "source": [
        "import matplotlib.pyplot as plt\n",
        "import seaborn as sns\n",
        "\n"
      ]
    },
    {
      "cell_type": "code",
      "execution_count": null,
      "id": "3ba8cd18",
      "metadata": {
        "id": "3ba8cd18"
      },
      "outputs": [],
      "source": [
        "correlation1 = dataset.iloc[:,1:3].corr()\n"
      ]
    },
    {
      "cell_type": "code",
      "execution_count": null,
      "id": "b39c47a4",
      "metadata": {
        "id": "b39c47a4",
        "outputId": "269aefb4-ca26-4319-d377-4f59b383bfdd"
      },
      "outputs": [
        {
          "data": {
            "text/html": [
              "<div>\n",
              "<style scoped>\n",
              "    .dataframe tbody tr th:only-of-type {\n",
              "        vertical-align: middle;\n",
              "    }\n",
              "\n",
              "    .dataframe tbody tr th {\n",
              "        vertical-align: top;\n",
              "    }\n",
              "\n",
              "    .dataframe thead th {\n",
              "        text-align: right;\n",
              "    }\n",
              "</style>\n",
              "<table border=\"1\" class=\"dataframe\">\n",
              "  <thead>\n",
              "    <tr style=\"text-align: right;\">\n",
              "      <th></th>\n",
              "      <th>Age</th>\n",
              "      <th>Salary</th>\n",
              "    </tr>\n",
              "  </thead>\n",
              "  <tbody>\n",
              "    <tr>\n",
              "      <th>Age</th>\n",
              "      <td>1.000000</td>\n",
              "      <td>0.982495</td>\n",
              "    </tr>\n",
              "    <tr>\n",
              "      <th>Salary</th>\n",
              "      <td>0.982495</td>\n",
              "      <td>1.000000</td>\n",
              "    </tr>\n",
              "  </tbody>\n",
              "</table>\n",
              "</div>"
            ],
            "text/plain": [
              "             Age    Salary\n",
              "Age     1.000000  0.982495\n",
              "Salary  0.982495  1.000000"
            ]
          },
          "execution_count": 14,
          "metadata": {},
          "output_type": "execute_result"
        }
      ],
      "source": [
        "correlation1"
      ]
    },
    {
      "cell_type": "code",
      "execution_count": null,
      "id": "716f83f5",
      "metadata": {
        "id": "716f83f5",
        "outputId": "736518fe-eb56-4de2-9706-8d9a9de84b8f"
      },
      "outputs": [
        {
          "data": {
            "text/plain": [
              "<Axes: >"
            ]
          },
          "execution_count": 16,
          "metadata": {},
          "output_type": "execute_result"
        },
        {
          "data": {
            "image/png": "[encoded data removed]",
            "text/plain": [
              "<Figure size 640x480 with 2 Axes>"
            ]
          },
          "metadata": {},
          "output_type": "display_data"
        }
      ],
      "source": [
        "sns.heatmap(data = dataset.iloc[:,1:3].corr())\n",
        "\n",
        "\n"
      ]
    },
    {
      "cell_type": "code",
      "execution_count": null,
      "id": "95a345cc",
      "metadata": {
        "id": "95a345cc"
      },
      "outputs": [],
      "source": [
        "dataset_BC = pd.read_csv('D:\\CSE310 - AIML\\Module 2\\Assignments\\BreastCancer.csv')"
      ]
    },
    {
      "cell_type": "code",
      "execution_count": null,
      "id": "f5b34e42",
      "metadata": {
        "id": "f5b34e42"
      },
      "outputs": [],
      "source": [
        "correlations1 = dataset_BC.corr()"
      ]
    },
    {
      "cell_type": "code",
      "execution_count": null,
      "id": "2e28e32c",
      "metadata": {
        "id": "2e28e32c"
      },
      "outputs": [],
      "source": [
        "sns.heatmap(data = correlations1,square = True, cmap = \"YlGnBu\")  #bwr\n",
        "\n",
        "\n"
      ]
    },
    {
      "cell_type": "code",
      "execution_count": null,
      "id": "159cf22c",
      "metadata": {
        "id": "159cf22c"
      },
      "outputs": [],
      "source": [
        "sns.set_theme()"
      ]
    },
    {
      "cell_type": "code",
      "execution_count": null,
      "id": "b06b20cb",
      "metadata": {
        "id": "b06b20cb"
      },
      "outputs": [],
      "source": [
        "print(correlations1)\n"
      ]
    },
    {
      "cell_type": "code",
      "execution_count": null,
      "id": "cb2ea76a",
      "metadata": {
        "id": "cb2ea76a"
      },
      "outputs": [],
      "source": [
        "sns.heatmap(correlations1)"
      ]
    },
    {
      "cell_type": "code",
      "execution_count": null,
      "id": "ff1ae6db",
      "metadata": {
        "id": "ff1ae6db"
      },
      "outputs": [],
      "source": [
        "fig, ax = plt.subplots(figsize=(15,15))\n",
        "sns.heatmap(correlations1)"
      ]
    },
    {
      "cell_type": "code",
      "execution_count": null,
      "id": "f05782d7",
      "metadata": {
        "id": "f05782d7"
      },
      "outputs": [],
      "source": [
        "%matplotlib inline\n",
        "plt.style.use('fivethirtyeight')"
      ]
    },
    {
      "cell_type": "code",
      "execution_count": null,
      "id": "f2f385c4",
      "metadata": {
        "id": "f2f385c4"
      },
      "outputs": [],
      "source": [
        "f, ax = plt.subplots(1, figsize=(20,28))\n",
        "sns.heatmap(correlations1, annot=True, ax=ax)"
      ]
    },
    {
      "cell_type": "code",
      "execution_count": null,
      "id": "10f301cf",
      "metadata": {
        "id": "10f301cf"
      },
      "outputs": [],
      "source": []
    }
  ],
  "metadata": {
    "kernelspec": {
      "display_name": "Python 3 (ipykernel)",
      "language": "python",
      "name": "python3"
    },
    "language_info": {
      "codemirror_mode": {
        "name": "ipython",
        "version": 3
      },
      "file_extension": ".py",
      "mimetype": "text/x-python",
      "name": "python",
      "nbconvert_exporter": "python",
      "pygments_lexer": "ipython3",
      "version": "3.11.4"
    },
    "colab": {
      "provenance": [],
      "include_colab_link": true
    }
  },
  "nbformat": 4,
  "nbformat_minor": 5
}